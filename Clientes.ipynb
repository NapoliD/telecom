{
  "nbformat": 4,
  "nbformat_minor": 0,
  "metadata": {
    "colab": {
      "name": "Clientes.ipynb",
      "provenance": [],
      "collapsed_sections": [],
      "authorship_tag": "ABX9TyORSlc9LpNU8AjShlgSyO1a",
      "include_colab_link": true
    },
    "kernelspec": {
      "name": "python3",
      "display_name": "Python 3"
    }
  },
  "cells": [
    {
      "cell_type": "markdown",
      "metadata": {
        "id": "view-in-github",
        "colab_type": "text"
      },
      "source": [
        "<a href=\"https://colab.research.google.com/github/NapoliD/telecom/blob/master/Clientes.ipynb\" target=\"_parent\"><img src=\"https://colab.research.google.com/assets/colab-badge.svg\" alt=\"Open In Colab\"/></a>"
      ]
    },
    {
      "cell_type": "code",
      "metadata": {
        "id": "oLxM7oIK0a_B"
      },
      "source": [
        "import os\n",
        "# Ejemplo si el archivo esta cargado en el entorno actual\n",
        "os.chdir('/content/')"
      ],
      "execution_count": 1,
      "outputs": []
    },
    {
      "cell_type": "code",
      "metadata": {
        "id": "l7khj6um0lDc",
        "outputId": "bab46af6-9ed7-4454-e127-ba1b55440004",
        "colab": {
          "base_uri": "https://localhost:8080/",
          "height": 84
        }
      },
      "source": [
        "import numpy as np\n",
        "import matplotlib.pyplot as plt\n",
        "import pandas as pd\n",
        "import plotly.express as px\n",
        "import seaborn as sns"
      ],
      "execution_count": 2,
      "outputs": [
        {
          "output_type": "stream",
          "text": [
            "/usr/local/lib/python3.6/dist-packages/statsmodels/tools/_testing.py:19: FutureWarning:\n",
            "\n",
            "pandas.util.testing is deprecated. Use the functions in the public API at pandas.testing instead.\n",
            "\n"
          ],
          "name": "stderr"
        }
      ]
    },
    {
      "cell_type": "code",
      "metadata": {
        "id": "Ohiz0aG30n8y",
        "outputId": "a3301ed9-244e-4db8-81f2-d541f8827d19",
        "colab": {
          "base_uri": "https://localhost:8080/",
          "height": 402
        }
      },
      "source": [
        "datos = pd.read_csv('cliente.csv', sep= ',')\n",
        "datos"
      ],
      "execution_count": 5,
      "outputs": [
        {
          "output_type": "execute_result",
          "data": {
            "text/html": [
              "<div>\n",
              "<style scoped>\n",
              "    .dataframe tbody tr th:only-of-type {\n",
              "        vertical-align: middle;\n",
              "    }\n",
              "\n",
              "    .dataframe tbody tr th {\n",
              "        vertical-align: top;\n",
              "    }\n",
              "\n",
              "    .dataframe thead th {\n",
              "        text-align: right;\n",
              "    }\n",
              "</style>\n",
              "<table border=\"1\" class=\"dataframe\">\n",
              "  <thead>\n",
              "    <tr style=\"text-align: right;\">\n",
              "      <th></th>\n",
              "      <th>Plan_mes</th>\n",
              "      <th>mes</th>\n",
              "      <th>nro_cliente</th>\n",
              "    </tr>\n",
              "  </thead>\n",
              "  <tbody>\n",
              "    <tr>\n",
              "      <th>0</th>\n",
              "      <td>95729</td>\n",
              "      <td>1</td>\n",
              "      <td>1</td>\n",
              "    </tr>\n",
              "    <tr>\n",
              "      <th>1</th>\n",
              "      <td>96410</td>\n",
              "      <td>1</td>\n",
              "      <td>3</td>\n",
              "    </tr>\n",
              "    <tr>\n",
              "      <th>2</th>\n",
              "      <td>96400</td>\n",
              "      <td>1</td>\n",
              "      <td>2</td>\n",
              "    </tr>\n",
              "    <tr>\n",
              "      <th>3</th>\n",
              "      <td>95729</td>\n",
              "      <td>1</td>\n",
              "      <td>5</td>\n",
              "    </tr>\n",
              "    <tr>\n",
              "      <th>4</th>\n",
              "      <td>95420</td>\n",
              "      <td>1</td>\n",
              "      <td>4</td>\n",
              "    </tr>\n",
              "    <tr>\n",
              "      <th>...</th>\n",
              "      <td>...</td>\n",
              "      <td>...</td>\n",
              "      <td>...</td>\n",
              "    </tr>\n",
              "    <tr>\n",
              "      <th>32613</th>\n",
              "      <td>96806</td>\n",
              "      <td>3</td>\n",
              "      <td>10897</td>\n",
              "    </tr>\n",
              "    <tr>\n",
              "      <th>32614</th>\n",
              "      <td>96890</td>\n",
              "      <td>3</td>\n",
              "      <td>10895</td>\n",
              "    </tr>\n",
              "    <tr>\n",
              "      <th>32615</th>\n",
              "      <td>96806</td>\n",
              "      <td>3</td>\n",
              "      <td>10898</td>\n",
              "    </tr>\n",
              "    <tr>\n",
              "      <th>32616</th>\n",
              "      <td>96806</td>\n",
              "      <td>3</td>\n",
              "      <td>10900</td>\n",
              "    </tr>\n",
              "    <tr>\n",
              "      <th>32617</th>\n",
              "      <td>96770</td>\n",
              "      <td>3</td>\n",
              "      <td>10899</td>\n",
              "    </tr>\n",
              "  </tbody>\n",
              "</table>\n",
              "<p>32618 rows × 3 columns</p>\n",
              "</div>"
            ],
            "text/plain": [
              "       Plan_mes  mes  nro_cliente\n",
              "0         95729    1            1\n",
              "1         96410    1            3\n",
              "2         96400    1            2\n",
              "3         95729    1            5\n",
              "4         95420    1            4\n",
              "...         ...  ...          ...\n",
              "32613     96806    3        10897\n",
              "32614     96890    3        10895\n",
              "32615     96806    3        10898\n",
              "32616     96806    3        10900\n",
              "32617     96770    3        10899\n",
              "\n",
              "[32618 rows x 3 columns]"
            ]
          },
          "metadata": {
            "tags": []
          },
          "execution_count": 5
        }
      ]
    },
    {
      "cell_type": "code",
      "metadata": {
        "id": "c2_eqaFt0xtb"
      },
      "source": [
        "datos"
      ],
      "execution_count": null,
      "outputs": []
    },
    {
      "cell_type": "code",
      "metadata": {
        "id": "kEL3HtTn2WdV",
        "outputId": "b533a54d-4f61-4c16-b124-d7b752f10381",
        "colab": {
          "base_uri": "https://localhost:8080/",
          "height": 235
        }
      },
      "source": [
        "datos.groupby('Plan_mes')['nro_cliente'].count().sort_values(ascending=False)"
      ],
      "execution_count": 6,
      "outputs": [
        {
          "output_type": "execute_result",
          "data": {
            "text/plain": [
              "Plan_mes\n",
              "95982    2857\n",
              "96385    2509\n",
              "96133    1438\n",
              "97017    1342\n",
              "96890    1329\n",
              "         ... \n",
              "94419       1\n",
              "94424       1\n",
              "95348       1\n",
              "94900       1\n",
              "91358       1\n",
              "Name: nro_cliente, Length: 196, dtype: int64"
            ]
          },
          "metadata": {
            "tags": []
          },
          "execution_count": 6
        }
      ]
    },
    {
      "cell_type": "code",
      "metadata": {
        "id": "iSpdT9SS2mWe",
        "outputId": "5f46e8de-6327-4664-8f88-85fc9e357a8f",
        "colab": {
          "base_uri": "https://localhost:8080/",
          "height": 402
        }
      },
      "source": [
        "clientes=datos.groupby('nro_cliente')['Plan_mes'].aggregate(lambda x: x.tolist()).reset_index()\n",
        "clientes"
      ],
      "execution_count": 7,
      "outputs": [
        {
          "output_type": "execute_result",
          "data": {
            "text/html": [
              "<div>\n",
              "<style scoped>\n",
              "    .dataframe tbody tr th:only-of-type {\n",
              "        vertical-align: middle;\n",
              "    }\n",
              "\n",
              "    .dataframe tbody tr th {\n",
              "        vertical-align: top;\n",
              "    }\n",
              "\n",
              "    .dataframe thead th {\n",
              "        text-align: right;\n",
              "    }\n",
              "</style>\n",
              "<table border=\"1\" class=\"dataframe\">\n",
              "  <thead>\n",
              "    <tr style=\"text-align: right;\">\n",
              "      <th></th>\n",
              "      <th>nro_cliente</th>\n",
              "      <th>Plan_mes</th>\n",
              "    </tr>\n",
              "  </thead>\n",
              "  <tbody>\n",
              "    <tr>\n",
              "      <th>0</th>\n",
              "      <td>1</td>\n",
              "      <td>[95729, 95729, 96810]</td>\n",
              "    </tr>\n",
              "    <tr>\n",
              "      <th>1</th>\n",
              "      <td>2</td>\n",
              "      <td>[96400, 96400, 96400]</td>\n",
              "    </tr>\n",
              "    <tr>\n",
              "      <th>2</th>\n",
              "      <td>3</td>\n",
              "      <td>[96410, 96410, 96410]</td>\n",
              "    </tr>\n",
              "    <tr>\n",
              "      <th>3</th>\n",
              "      <td>4</td>\n",
              "      <td>[95420, 96413, 96413]</td>\n",
              "    </tr>\n",
              "    <tr>\n",
              "      <th>4</th>\n",
              "      <td>5</td>\n",
              "      <td>[95729, 96810, 96810]</td>\n",
              "    </tr>\n",
              "    <tr>\n",
              "      <th>...</th>\n",
              "      <td>...</td>\n",
              "      <td>...</td>\n",
              "    </tr>\n",
              "    <tr>\n",
              "      <th>10895</th>\n",
              "      <td>10896</td>\n",
              "      <td>[96806, 96806]</td>\n",
              "    </tr>\n",
              "    <tr>\n",
              "      <th>10896</th>\n",
              "      <td>10897</td>\n",
              "      <td>[96806, 96806]</td>\n",
              "    </tr>\n",
              "    <tr>\n",
              "      <th>10897</th>\n",
              "      <td>10898</td>\n",
              "      <td>[96806, 96806]</td>\n",
              "    </tr>\n",
              "    <tr>\n",
              "      <th>10898</th>\n",
              "      <td>10899</td>\n",
              "      <td>[96766, 96770]</td>\n",
              "    </tr>\n",
              "    <tr>\n",
              "      <th>10899</th>\n",
              "      <td>10900</td>\n",
              "      <td>[96806, 96806]</td>\n",
              "    </tr>\n",
              "  </tbody>\n",
              "</table>\n",
              "<p>10900 rows × 2 columns</p>\n",
              "</div>"
            ],
            "text/plain": [
              "       nro_cliente               Plan_mes\n",
              "0                1  [95729, 95729, 96810]\n",
              "1                2  [96400, 96400, 96400]\n",
              "2                3  [96410, 96410, 96410]\n",
              "3                4  [95420, 96413, 96413]\n",
              "4                5  [95729, 96810, 96810]\n",
              "...            ...                    ...\n",
              "10895        10896         [96806, 96806]\n",
              "10896        10897         [96806, 96806]\n",
              "10897        10898         [96806, 96806]\n",
              "10898        10899         [96766, 96770]\n",
              "10899        10900         [96806, 96806]\n",
              "\n",
              "[10900 rows x 2 columns]"
            ]
          },
          "metadata": {
            "tags": []
          },
          "execution_count": 7
        }
      ]
    },
    {
      "cell_type": "code",
      "metadata": {
        "id": "lW-YZ2l22ydv"
      },
      "source": [
        "planes=clientes['Plan_mes']"
      ],
      "execution_count": 8,
      "outputs": []
    },
    {
      "cell_type": "code",
      "metadata": {
        "id": "dJ9_VWAn4pQG"
      },
      "source": [
        "planes=pd.DataFrame(planes).astype(str)"
      ],
      "execution_count": 9,
      "outputs": []
    },
    {
      "cell_type": "code",
      "metadata": {
        "id": "1bPlmRDa7zZy"
      },
      "source": [
        "planes=pd.DataFrame(planes['Plan_mes'].apply(lambda x: pd.Series(x.split(','))))"
      ],
      "execution_count": 10,
      "outputs": []
    },
    {
      "cell_type": "code",
      "metadata": {
        "id": "Q2YAMVUZDNa1",
        "outputId": "20578f34-ec48-4794-d9b5-7f13edc088f7",
        "colab": {
          "base_uri": "https://localhost:8080/",
          "height": 402
        }
      },
      "source": [
        "planes"
      ],
      "execution_count": 11,
      "outputs": [
        {
          "output_type": "execute_result",
          "data": {
            "text/html": [
              "<div>\n",
              "<style scoped>\n",
              "    .dataframe tbody tr th:only-of-type {\n",
              "        vertical-align: middle;\n",
              "    }\n",
              "\n",
              "    .dataframe tbody tr th {\n",
              "        vertical-align: top;\n",
              "    }\n",
              "\n",
              "    .dataframe thead th {\n",
              "        text-align: right;\n",
              "    }\n",
              "</style>\n",
              "<table border=\"1\" class=\"dataframe\">\n",
              "  <thead>\n",
              "    <tr style=\"text-align: right;\">\n",
              "      <th></th>\n",
              "      <th>0</th>\n",
              "      <th>1</th>\n",
              "      <th>2</th>\n",
              "    </tr>\n",
              "  </thead>\n",
              "  <tbody>\n",
              "    <tr>\n",
              "      <th>0</th>\n",
              "      <td>[95729</td>\n",
              "      <td>95729</td>\n",
              "      <td>96810]</td>\n",
              "    </tr>\n",
              "    <tr>\n",
              "      <th>1</th>\n",
              "      <td>[96400</td>\n",
              "      <td>96400</td>\n",
              "      <td>96400]</td>\n",
              "    </tr>\n",
              "    <tr>\n",
              "      <th>2</th>\n",
              "      <td>[96410</td>\n",
              "      <td>96410</td>\n",
              "      <td>96410]</td>\n",
              "    </tr>\n",
              "    <tr>\n",
              "      <th>3</th>\n",
              "      <td>[95420</td>\n",
              "      <td>96413</td>\n",
              "      <td>96413]</td>\n",
              "    </tr>\n",
              "    <tr>\n",
              "      <th>4</th>\n",
              "      <td>[95729</td>\n",
              "      <td>96810</td>\n",
              "      <td>96810]</td>\n",
              "    </tr>\n",
              "    <tr>\n",
              "      <th>...</th>\n",
              "      <td>...</td>\n",
              "      <td>...</td>\n",
              "      <td>...</td>\n",
              "    </tr>\n",
              "    <tr>\n",
              "      <th>10895</th>\n",
              "      <td>[96806</td>\n",
              "      <td>96806]</td>\n",
              "      <td>NaN</td>\n",
              "    </tr>\n",
              "    <tr>\n",
              "      <th>10896</th>\n",
              "      <td>[96806</td>\n",
              "      <td>96806]</td>\n",
              "      <td>NaN</td>\n",
              "    </tr>\n",
              "    <tr>\n",
              "      <th>10897</th>\n",
              "      <td>[96806</td>\n",
              "      <td>96806]</td>\n",
              "      <td>NaN</td>\n",
              "    </tr>\n",
              "    <tr>\n",
              "      <th>10898</th>\n",
              "      <td>[96766</td>\n",
              "      <td>96770]</td>\n",
              "      <td>NaN</td>\n",
              "    </tr>\n",
              "    <tr>\n",
              "      <th>10899</th>\n",
              "      <td>[96806</td>\n",
              "      <td>96806]</td>\n",
              "      <td>NaN</td>\n",
              "    </tr>\n",
              "  </tbody>\n",
              "</table>\n",
              "<p>10900 rows × 3 columns</p>\n",
              "</div>"
            ],
            "text/plain": [
              "            0        1        2\n",
              "0      [95729    95729   96810]\n",
              "1      [96400    96400   96400]\n",
              "2      [96410    96410   96410]\n",
              "3      [95420    96413   96413]\n",
              "4      [95729    96810   96810]\n",
              "...       ...      ...      ...\n",
              "10895  [96806   96806]      NaN\n",
              "10896  [96806   96806]      NaN\n",
              "10897  [96806   96806]      NaN\n",
              "10898  [96766   96770]      NaN\n",
              "10899  [96806   96806]      NaN\n",
              "\n",
              "[10900 rows x 3 columns]"
            ]
          },
          "metadata": {
            "tags": []
          },
          "execution_count": 11
        }
      ]
    },
    {
      "cell_type": "code",
      "metadata": {
        "id": "RNVGEgVi_heZ"
      },
      "source": [
        "mes1=pd.DataFrame(planes[0].map(lambda x: x.lstrip('[')).astype(int))\n",
        "mes1.columns=['mes1']\n",
        "mes1"
      ],
      "execution_count": null,
      "outputs": []
    },
    {
      "cell_type": "code",
      "metadata": {
        "id": "p6jotPO-ANhP"
      },
      "source": [
        "mes2=planes[1].astype(str).apply(lambda x: pd.Series(x.split(']')))\n",
        "mes2=pd.DataFrame(mes2[0].astype(int))\n",
        "mes2.columns=['mes2']\n",
        "mes2"
      ],
      "execution_count": null,
      "outputs": []
    },
    {
      "cell_type": "code",
      "metadata": {
        "id": "rBeR21zYByqB",
        "outputId": "37a44081-f3b6-4b87-dd45-a7750e508ca5",
        "colab": {
          "base_uri": "https://localhost:8080/",
          "height": 402
        }
      },
      "source": [
        "mes3=planes[2].astype(str).apply(lambda x: pd.Series(x.split(']')))\n",
        "mes3=pd.DataFrame(mes3[0].replace('nan',0).astype(int))\n",
        "mes3.columns=['mes3']\n",
        "mes3"
      ],
      "execution_count": 22,
      "outputs": [
        {
          "output_type": "execute_result",
          "data": {
            "text/html": [
              "<div>\n",
              "<style scoped>\n",
              "    .dataframe tbody tr th:only-of-type {\n",
              "        vertical-align: middle;\n",
              "    }\n",
              "\n",
              "    .dataframe tbody tr th {\n",
              "        vertical-align: top;\n",
              "    }\n",
              "\n",
              "    .dataframe thead th {\n",
              "        text-align: right;\n",
              "    }\n",
              "</style>\n",
              "<table border=\"1\" class=\"dataframe\">\n",
              "  <thead>\n",
              "    <tr style=\"text-align: right;\">\n",
              "      <th></th>\n",
              "      <th>mes3</th>\n",
              "    </tr>\n",
              "  </thead>\n",
              "  <tbody>\n",
              "    <tr>\n",
              "      <th>0</th>\n",
              "      <td>96810</td>\n",
              "    </tr>\n",
              "    <tr>\n",
              "      <th>1</th>\n",
              "      <td>96400</td>\n",
              "    </tr>\n",
              "    <tr>\n",
              "      <th>2</th>\n",
              "      <td>96410</td>\n",
              "    </tr>\n",
              "    <tr>\n",
              "      <th>3</th>\n",
              "      <td>96413</td>\n",
              "    </tr>\n",
              "    <tr>\n",
              "      <th>4</th>\n",
              "      <td>96810</td>\n",
              "    </tr>\n",
              "    <tr>\n",
              "      <th>...</th>\n",
              "      <td>...</td>\n",
              "    </tr>\n",
              "    <tr>\n",
              "      <th>10895</th>\n",
              "      <td>0</td>\n",
              "    </tr>\n",
              "    <tr>\n",
              "      <th>10896</th>\n",
              "      <td>0</td>\n",
              "    </tr>\n",
              "    <tr>\n",
              "      <th>10897</th>\n",
              "      <td>0</td>\n",
              "    </tr>\n",
              "    <tr>\n",
              "      <th>10898</th>\n",
              "      <td>0</td>\n",
              "    </tr>\n",
              "    <tr>\n",
              "      <th>10899</th>\n",
              "      <td>0</td>\n",
              "    </tr>\n",
              "  </tbody>\n",
              "</table>\n",
              "<p>10900 rows × 1 columns</p>\n",
              "</div>"
            ],
            "text/plain": [
              "        mes3\n",
              "0      96810\n",
              "1      96400\n",
              "2      96410\n",
              "3      96413\n",
              "4      96810\n",
              "...      ...\n",
              "10895      0\n",
              "10896      0\n",
              "10897      0\n",
              "10898      0\n",
              "10899      0\n",
              "\n",
              "[10900 rows x 1 columns]"
            ]
          },
          "metadata": {
            "tags": []
          },
          "execution_count": 22
        }
      ]
    },
    {
      "cell_type": "code",
      "metadata": {
        "id": "9fqi5KFgGgEI"
      },
      "source": [
        "base_final=pd.concat([clientes.reset_index(drop=True),\n",
        "                      mes1.reset_index(drop=True),mes2.reset_index(drop=True),mes3.reset_index(drop=True)], axis=1)"
      ],
      "execution_count": 59,
      "outputs": []
    },
    {
      "cell_type": "code",
      "metadata": {
        "id": "vN5E8G25IIvT",
        "outputId": "84c77a21-4186-4aef-f84a-991b85b21d45",
        "colab": {
          "base_uri": "https://localhost:8080/",
          "height": 402
        }
      },
      "source": [
        "base_final"
      ],
      "execution_count": 60,
      "outputs": [
        {
          "output_type": "execute_result",
          "data": {
            "text/html": [
              "<div>\n",
              "<style scoped>\n",
              "    .dataframe tbody tr th:only-of-type {\n",
              "        vertical-align: middle;\n",
              "    }\n",
              "\n",
              "    .dataframe tbody tr th {\n",
              "        vertical-align: top;\n",
              "    }\n",
              "\n",
              "    .dataframe thead th {\n",
              "        text-align: right;\n",
              "    }\n",
              "</style>\n",
              "<table border=\"1\" class=\"dataframe\">\n",
              "  <thead>\n",
              "    <tr style=\"text-align: right;\">\n",
              "      <th></th>\n",
              "      <th>nro_cliente</th>\n",
              "      <th>Plan_mes</th>\n",
              "      <th>mes1</th>\n",
              "      <th>mes2</th>\n",
              "      <th>mes3</th>\n",
              "    </tr>\n",
              "  </thead>\n",
              "  <tbody>\n",
              "    <tr>\n",
              "      <th>0</th>\n",
              "      <td>1</td>\n",
              "      <td>[95729, 95729, 96810]</td>\n",
              "      <td>95729</td>\n",
              "      <td>95729</td>\n",
              "      <td>96810</td>\n",
              "    </tr>\n",
              "    <tr>\n",
              "      <th>1</th>\n",
              "      <td>2</td>\n",
              "      <td>[96400, 96400, 96400]</td>\n",
              "      <td>96400</td>\n",
              "      <td>96400</td>\n",
              "      <td>96400</td>\n",
              "    </tr>\n",
              "    <tr>\n",
              "      <th>2</th>\n",
              "      <td>3</td>\n",
              "      <td>[96410, 96410, 96410]</td>\n",
              "      <td>96410</td>\n",
              "      <td>96410</td>\n",
              "      <td>96410</td>\n",
              "    </tr>\n",
              "    <tr>\n",
              "      <th>3</th>\n",
              "      <td>4</td>\n",
              "      <td>[95420, 96413, 96413]</td>\n",
              "      <td>95420</td>\n",
              "      <td>96413</td>\n",
              "      <td>96413</td>\n",
              "    </tr>\n",
              "    <tr>\n",
              "      <th>4</th>\n",
              "      <td>5</td>\n",
              "      <td>[95729, 96810, 96810]</td>\n",
              "      <td>95729</td>\n",
              "      <td>96810</td>\n",
              "      <td>96810</td>\n",
              "    </tr>\n",
              "    <tr>\n",
              "      <th>...</th>\n",
              "      <td>...</td>\n",
              "      <td>...</td>\n",
              "      <td>...</td>\n",
              "      <td>...</td>\n",
              "      <td>...</td>\n",
              "    </tr>\n",
              "    <tr>\n",
              "      <th>10895</th>\n",
              "      <td>10896</td>\n",
              "      <td>[96806, 96806]</td>\n",
              "      <td>96806</td>\n",
              "      <td>96806</td>\n",
              "      <td>0</td>\n",
              "    </tr>\n",
              "    <tr>\n",
              "      <th>10896</th>\n",
              "      <td>10897</td>\n",
              "      <td>[96806, 96806]</td>\n",
              "      <td>96806</td>\n",
              "      <td>96806</td>\n",
              "      <td>0</td>\n",
              "    </tr>\n",
              "    <tr>\n",
              "      <th>10897</th>\n",
              "      <td>10898</td>\n",
              "      <td>[96806, 96806]</td>\n",
              "      <td>96806</td>\n",
              "      <td>96806</td>\n",
              "      <td>0</td>\n",
              "    </tr>\n",
              "    <tr>\n",
              "      <th>10898</th>\n",
              "      <td>10899</td>\n",
              "      <td>[96766, 96770]</td>\n",
              "      <td>96766</td>\n",
              "      <td>96770</td>\n",
              "      <td>0</td>\n",
              "    </tr>\n",
              "    <tr>\n",
              "      <th>10899</th>\n",
              "      <td>10900</td>\n",
              "      <td>[96806, 96806]</td>\n",
              "      <td>96806</td>\n",
              "      <td>96806</td>\n",
              "      <td>0</td>\n",
              "    </tr>\n",
              "  </tbody>\n",
              "</table>\n",
              "<p>10900 rows × 5 columns</p>\n",
              "</div>"
            ],
            "text/plain": [
              "       nro_cliente               Plan_mes   mes1   mes2   mes3\n",
              "0                1  [95729, 95729, 96810]  95729  95729  96810\n",
              "1                2  [96400, 96400, 96400]  96400  96400  96400\n",
              "2                3  [96410, 96410, 96410]  96410  96410  96410\n",
              "3                4  [95420, 96413, 96413]  95420  96413  96413\n",
              "4                5  [95729, 96810, 96810]  95729  96810  96810\n",
              "...            ...                    ...    ...    ...    ...\n",
              "10895        10896         [96806, 96806]  96806  96806      0\n",
              "10896        10897         [96806, 96806]  96806  96806      0\n",
              "10897        10898         [96806, 96806]  96806  96806      0\n",
              "10898        10899         [96766, 96770]  96766  96770      0\n",
              "10899        10900         [96806, 96806]  96806  96806      0\n",
              "\n",
              "[10900 rows x 5 columns]"
            ]
          },
          "metadata": {
            "tags": []
          },
          "execution_count": 60
        }
      ]
    },
    {
      "cell_type": "code",
      "metadata": {
        "id": "PZcLFl5GHDYQ"
      },
      "source": [
        "base_final.drop_duplicates(subset='nro_cliente',keep='first')"
      ],
      "execution_count": null,
      "outputs": []
    },
    {
      "cell_type": "code",
      "metadata": {
        "id": "6fbjj0HsAR9X",
        "outputId": "9c6ba619-ac30-41f5-b4ba-c1f0734dedf3",
        "colab": {
          "base_uri": "https://localhost:8080/",
          "height": 402
        }
      },
      "source": [
        "base_final['cambio_plan']=np.where( (base_final['mes1']!=base_final['mes2']),1,0)\n",
        "base_final['cambio_plan1']=np.where((base_final['mes1']!=base_final['mes3']) & (base_final['mes3']!=0),1,0)\n",
        "base_final['cambio_plan2']=np.where( (base_final['mes2']!=base_final['mes3']) &  (base_final['mes3']!=0),1,0)\n",
        "base_final['cambio_plan_1_si_0_no']=np.where( (base_final['cambio_plan']==1) | (base_final['cambio_plan1']==1) | (base_final['cambio_plan2']==1),1,0)\n",
        "base_final"
      ],
      "execution_count": 61,
      "outputs": [
        {
          "output_type": "execute_result",
          "data": {
            "text/html": [
              "<div>\n",
              "<style scoped>\n",
              "    .dataframe tbody tr th:only-of-type {\n",
              "        vertical-align: middle;\n",
              "    }\n",
              "\n",
              "    .dataframe tbody tr th {\n",
              "        vertical-align: top;\n",
              "    }\n",
              "\n",
              "    .dataframe thead th {\n",
              "        text-align: right;\n",
              "    }\n",
              "</style>\n",
              "<table border=\"1\" class=\"dataframe\">\n",
              "  <thead>\n",
              "    <tr style=\"text-align: right;\">\n",
              "      <th></th>\n",
              "      <th>nro_cliente</th>\n",
              "      <th>Plan_mes</th>\n",
              "      <th>mes1</th>\n",
              "      <th>mes2</th>\n",
              "      <th>mes3</th>\n",
              "      <th>cambio_plan</th>\n",
              "      <th>cambio_plan1</th>\n",
              "      <th>cambio_plan2</th>\n",
              "      <th>cambio_plan_1_si_0_no</th>\n",
              "    </tr>\n",
              "  </thead>\n",
              "  <tbody>\n",
              "    <tr>\n",
              "      <th>0</th>\n",
              "      <td>1</td>\n",
              "      <td>[95729, 95729, 96810]</td>\n",
              "      <td>95729</td>\n",
              "      <td>95729</td>\n",
              "      <td>96810</td>\n",
              "      <td>0</td>\n",
              "      <td>1</td>\n",
              "      <td>1</td>\n",
              "      <td>1</td>\n",
              "    </tr>\n",
              "    <tr>\n",
              "      <th>1</th>\n",
              "      <td>2</td>\n",
              "      <td>[96400, 96400, 96400]</td>\n",
              "      <td>96400</td>\n",
              "      <td>96400</td>\n",
              "      <td>96400</td>\n",
              "      <td>0</td>\n",
              "      <td>0</td>\n",
              "      <td>0</td>\n",
              "      <td>0</td>\n",
              "    </tr>\n",
              "    <tr>\n",
              "      <th>2</th>\n",
              "      <td>3</td>\n",
              "      <td>[96410, 96410, 96410]</td>\n",
              "      <td>96410</td>\n",
              "      <td>96410</td>\n",
              "      <td>96410</td>\n",
              "      <td>0</td>\n",
              "      <td>0</td>\n",
              "      <td>0</td>\n",
              "      <td>0</td>\n",
              "    </tr>\n",
              "    <tr>\n",
              "      <th>3</th>\n",
              "      <td>4</td>\n",
              "      <td>[95420, 96413, 96413]</td>\n",
              "      <td>95420</td>\n",
              "      <td>96413</td>\n",
              "      <td>96413</td>\n",
              "      <td>1</td>\n",
              "      <td>1</td>\n",
              "      <td>0</td>\n",
              "      <td>1</td>\n",
              "    </tr>\n",
              "    <tr>\n",
              "      <th>4</th>\n",
              "      <td>5</td>\n",
              "      <td>[95729, 96810, 96810]</td>\n",
              "      <td>95729</td>\n",
              "      <td>96810</td>\n",
              "      <td>96810</td>\n",
              "      <td>1</td>\n",
              "      <td>1</td>\n",
              "      <td>0</td>\n",
              "      <td>1</td>\n",
              "    </tr>\n",
              "    <tr>\n",
              "      <th>...</th>\n",
              "      <td>...</td>\n",
              "      <td>...</td>\n",
              "      <td>...</td>\n",
              "      <td>...</td>\n",
              "      <td>...</td>\n",
              "      <td>...</td>\n",
              "      <td>...</td>\n",
              "      <td>...</td>\n",
              "      <td>...</td>\n",
              "    </tr>\n",
              "    <tr>\n",
              "      <th>10895</th>\n",
              "      <td>10896</td>\n",
              "      <td>[96806, 96806]</td>\n",
              "      <td>96806</td>\n",
              "      <td>96806</td>\n",
              "      <td>0</td>\n",
              "      <td>0</td>\n",
              "      <td>0</td>\n",
              "      <td>0</td>\n",
              "      <td>0</td>\n",
              "    </tr>\n",
              "    <tr>\n",
              "      <th>10896</th>\n",
              "      <td>10897</td>\n",
              "      <td>[96806, 96806]</td>\n",
              "      <td>96806</td>\n",
              "      <td>96806</td>\n",
              "      <td>0</td>\n",
              "      <td>0</td>\n",
              "      <td>0</td>\n",
              "      <td>0</td>\n",
              "      <td>0</td>\n",
              "    </tr>\n",
              "    <tr>\n",
              "      <th>10897</th>\n",
              "      <td>10898</td>\n",
              "      <td>[96806, 96806]</td>\n",
              "      <td>96806</td>\n",
              "      <td>96806</td>\n",
              "      <td>0</td>\n",
              "      <td>0</td>\n",
              "      <td>0</td>\n",
              "      <td>0</td>\n",
              "      <td>0</td>\n",
              "    </tr>\n",
              "    <tr>\n",
              "      <th>10898</th>\n",
              "      <td>10899</td>\n",
              "      <td>[96766, 96770]</td>\n",
              "      <td>96766</td>\n",
              "      <td>96770</td>\n",
              "      <td>0</td>\n",
              "      <td>1</td>\n",
              "      <td>0</td>\n",
              "      <td>0</td>\n",
              "      <td>1</td>\n",
              "    </tr>\n",
              "    <tr>\n",
              "      <th>10899</th>\n",
              "      <td>10900</td>\n",
              "      <td>[96806, 96806]</td>\n",
              "      <td>96806</td>\n",
              "      <td>96806</td>\n",
              "      <td>0</td>\n",
              "      <td>0</td>\n",
              "      <td>0</td>\n",
              "      <td>0</td>\n",
              "      <td>0</td>\n",
              "    </tr>\n",
              "  </tbody>\n",
              "</table>\n",
              "<p>10900 rows × 9 columns</p>\n",
              "</div>"
            ],
            "text/plain": [
              "       nro_cliente               Plan_mes  ...  cambio_plan2  cambio_plan_1_si_0_no\n",
              "0                1  [95729, 95729, 96810]  ...             1                      1\n",
              "1                2  [96400, 96400, 96400]  ...             0                      0\n",
              "2                3  [96410, 96410, 96410]  ...             0                      0\n",
              "3                4  [95420, 96413, 96413]  ...             0                      1\n",
              "4                5  [95729, 96810, 96810]  ...             0                      1\n",
              "...            ...                    ...  ...           ...                    ...\n",
              "10895        10896         [96806, 96806]  ...             0                      0\n",
              "10896        10897         [96806, 96806]  ...             0                      0\n",
              "10897        10898         [96806, 96806]  ...             0                      0\n",
              "10898        10899         [96766, 96770]  ...             0                      1\n",
              "10899        10900         [96806, 96806]  ...             0                      0\n",
              "\n",
              "[10900 rows x 9 columns]"
            ]
          },
          "metadata": {
            "tags": []
          },
          "execution_count": 61
        }
      ]
    },
    {
      "cell_type": "code",
      "metadata": {
        "id": "3LJulFCYZZnf",
        "outputId": "d44c9c55-83f9-43a6-f21f-5d72efbdb692",
        "colab": {
          "base_uri": "https://localhost:8080/",
          "height": 402
        }
      },
      "source": [
        "base_final2=base_final.loc[:,['nro_cliente','cambio_plan_1_si_0_no']]\n",
        "base_final_clientes=datos.merge(base_final2, on='nro_cliente', how='left')\n",
        "base_final_clientes\n"
      ],
      "execution_count": 62,
      "outputs": [
        {
          "output_type": "execute_result",
          "data": {
            "text/html": [
              "<div>\n",
              "<style scoped>\n",
              "    .dataframe tbody tr th:only-of-type {\n",
              "        vertical-align: middle;\n",
              "    }\n",
              "\n",
              "    .dataframe tbody tr th {\n",
              "        vertical-align: top;\n",
              "    }\n",
              "\n",
              "    .dataframe thead th {\n",
              "        text-align: right;\n",
              "    }\n",
              "</style>\n",
              "<table border=\"1\" class=\"dataframe\">\n",
              "  <thead>\n",
              "    <tr style=\"text-align: right;\">\n",
              "      <th></th>\n",
              "      <th>provincia</th>\n",
              "      <th>nro_cliente</th>\n",
              "      <th>cambio_plan_1_si_0_no</th>\n",
              "    </tr>\n",
              "  </thead>\n",
              "  <tbody>\n",
              "    <tr>\n",
              "      <th>0</th>\n",
              "      <td>Chaco</td>\n",
              "      <td>1</td>\n",
              "      <td>1</td>\n",
              "    </tr>\n",
              "    <tr>\n",
              "      <th>1</th>\n",
              "      <td>Santa Fe</td>\n",
              "      <td>2</td>\n",
              "      <td>0</td>\n",
              "    </tr>\n",
              "    <tr>\n",
              "      <th>2</th>\n",
              "      <td>Córdoba</td>\n",
              "      <td>3</td>\n",
              "      <td>0</td>\n",
              "    </tr>\n",
              "    <tr>\n",
              "      <th>3</th>\n",
              "      <td>Salta</td>\n",
              "      <td>4</td>\n",
              "      <td>1</td>\n",
              "    </tr>\n",
              "    <tr>\n",
              "      <th>4</th>\n",
              "      <td>Santa Fe</td>\n",
              "      <td>5</td>\n",
              "      <td>1</td>\n",
              "    </tr>\n",
              "    <tr>\n",
              "      <th>...</th>\n",
              "      <td>...</td>\n",
              "      <td>...</td>\n",
              "      <td>...</td>\n",
              "    </tr>\n",
              "    <tr>\n",
              "      <th>10895</th>\n",
              "      <td>Catamarca</td>\n",
              "      <td>10896</td>\n",
              "      <td>0</td>\n",
              "    </tr>\n",
              "    <tr>\n",
              "      <th>10896</th>\n",
              "      <td>Buenos Aires</td>\n",
              "      <td>10897</td>\n",
              "      <td>0</td>\n",
              "    </tr>\n",
              "    <tr>\n",
              "      <th>10897</th>\n",
              "      <td>San Juan</td>\n",
              "      <td>10898</td>\n",
              "      <td>0</td>\n",
              "    </tr>\n",
              "    <tr>\n",
              "      <th>10898</th>\n",
              "      <td>Chaco</td>\n",
              "      <td>10899</td>\n",
              "      <td>1</td>\n",
              "    </tr>\n",
              "    <tr>\n",
              "      <th>10899</th>\n",
              "      <td>Tucumán</td>\n",
              "      <td>10900</td>\n",
              "      <td>0</td>\n",
              "    </tr>\n",
              "  </tbody>\n",
              "</table>\n",
              "<p>10900 rows × 3 columns</p>\n",
              "</div>"
            ],
            "text/plain": [
              "          provincia  nro_cliente  cambio_plan_1_si_0_no\n",
              "0             Chaco            1                      1\n",
              "1          Santa Fe            2                      0\n",
              "2           Córdoba            3                      0\n",
              "3             Salta            4                      1\n",
              "4          Santa Fe            5                      1\n",
              "...             ...          ...                    ...\n",
              "10895     Catamarca        10896                      0\n",
              "10896  Buenos Aires        10897                      0\n",
              "10897      San Juan        10898                      0\n",
              "10898         Chaco        10899                      1\n",
              "10899       Tucumán        10900                      0\n",
              "\n",
              "[10900 rows x 3 columns]"
            ]
          },
          "metadata": {
            "tags": []
          },
          "execution_count": 62
        }
      ]
    },
    {
      "cell_type": "code",
      "metadata": {
        "id": "qCfNJxKCNl-y"
      },
      "source": [
        "base_final_clientes.to_csv(\"Clientes_cambio_plan.csv\",index=False)"
      ],
      "execution_count": 49,
      "outputs": []
    },
    {
      "cell_type": "code",
      "metadata": {
        "id": "QHnUTsbrdzO-",
        "outputId": "7d50322b-3b3e-46da-fc9f-aa5d46f89e15",
        "colab": {
          "base_uri": "https://localhost:8080/",
          "height": 402
        }
      },
      "source": [
        "base_final2"
      ],
      "execution_count": 63,
      "outputs": [
        {
          "output_type": "execute_result",
          "data": {
            "text/html": [
              "<div>\n",
              "<style scoped>\n",
              "    .dataframe tbody tr th:only-of-type {\n",
              "        vertical-align: middle;\n",
              "    }\n",
              "\n",
              "    .dataframe tbody tr th {\n",
              "        vertical-align: top;\n",
              "    }\n",
              "\n",
              "    .dataframe thead th {\n",
              "        text-align: right;\n",
              "    }\n",
              "</style>\n",
              "<table border=\"1\" class=\"dataframe\">\n",
              "  <thead>\n",
              "    <tr style=\"text-align: right;\">\n",
              "      <th></th>\n",
              "      <th>nro_cliente</th>\n",
              "      <th>cambio_plan_1_si_0_no</th>\n",
              "    </tr>\n",
              "  </thead>\n",
              "  <tbody>\n",
              "    <tr>\n",
              "      <th>0</th>\n",
              "      <td>1</td>\n",
              "      <td>1</td>\n",
              "    </tr>\n",
              "    <tr>\n",
              "      <th>1</th>\n",
              "      <td>2</td>\n",
              "      <td>0</td>\n",
              "    </tr>\n",
              "    <tr>\n",
              "      <th>2</th>\n",
              "      <td>3</td>\n",
              "      <td>0</td>\n",
              "    </tr>\n",
              "    <tr>\n",
              "      <th>3</th>\n",
              "      <td>4</td>\n",
              "      <td>1</td>\n",
              "    </tr>\n",
              "    <tr>\n",
              "      <th>4</th>\n",
              "      <td>5</td>\n",
              "      <td>1</td>\n",
              "    </tr>\n",
              "    <tr>\n",
              "      <th>...</th>\n",
              "      <td>...</td>\n",
              "      <td>...</td>\n",
              "    </tr>\n",
              "    <tr>\n",
              "      <th>10895</th>\n",
              "      <td>10896</td>\n",
              "      <td>0</td>\n",
              "    </tr>\n",
              "    <tr>\n",
              "      <th>10896</th>\n",
              "      <td>10897</td>\n",
              "      <td>0</td>\n",
              "    </tr>\n",
              "    <tr>\n",
              "      <th>10897</th>\n",
              "      <td>10898</td>\n",
              "      <td>0</td>\n",
              "    </tr>\n",
              "    <tr>\n",
              "      <th>10898</th>\n",
              "      <td>10899</td>\n",
              "      <td>1</td>\n",
              "    </tr>\n",
              "    <tr>\n",
              "      <th>10899</th>\n",
              "      <td>10900</td>\n",
              "      <td>0</td>\n",
              "    </tr>\n",
              "  </tbody>\n",
              "</table>\n",
              "<p>10900 rows × 2 columns</p>\n",
              "</div>"
            ],
            "text/plain": [
              "       nro_cliente  cambio_plan_1_si_0_no\n",
              "0                1                      1\n",
              "1                2                      0\n",
              "2                3                      0\n",
              "3                4                      1\n",
              "4                5                      1\n",
              "...            ...                    ...\n",
              "10895        10896                      0\n",
              "10896        10897                      0\n",
              "10897        10898                      0\n",
              "10898        10899                      1\n",
              "10899        10900                      0\n",
              "\n",
              "[10900 rows x 2 columns]"
            ]
          },
          "metadata": {
            "tags": []
          },
          "execution_count": 63
        }
      ]
    },
    {
      "cell_type": "markdown",
      "metadata": {
        "id": "k0D75Fumcaa_"
      },
      "source": [
        "<h2> Cuantos clientes que se encuentran en CABA cambiaron de plan.</h2>"
      ]
    },
    {
      "cell_type": "code",
      "metadata": {
        "id": "1A4Zgx9EciI4",
        "outputId": "9175fd28-3a8d-449f-936a-6c82277f51f1",
        "colab": {
          "base_uri": "https://localhost:8080/",
          "height": 402
        }
      },
      "source": [
        "provincia = pd.read_csv('provincia.csv',sep=';',encoding='latin-1',decimal=',',thousands='.')\n",
        "provincia"
      ],
      "execution_count": 56,
      "outputs": [
        {
          "output_type": "execute_result",
          "data": {
            "text/html": [
              "<div>\n",
              "<style scoped>\n",
              "    .dataframe tbody tr th:only-of-type {\n",
              "        vertical-align: middle;\n",
              "    }\n",
              "\n",
              "    .dataframe tbody tr th {\n",
              "        vertical-align: top;\n",
              "    }\n",
              "\n",
              "    .dataframe thead th {\n",
              "        text-align: right;\n",
              "    }\n",
              "</style>\n",
              "<table border=\"1\" class=\"dataframe\">\n",
              "  <thead>\n",
              "    <tr style=\"text-align: right;\">\n",
              "      <th></th>\n",
              "      <th>provincia</th>\n",
              "      <th>nro_cliente</th>\n",
              "    </tr>\n",
              "  </thead>\n",
              "  <tbody>\n",
              "    <tr>\n",
              "      <th>0</th>\n",
              "      <td>Chaco</td>\n",
              "      <td>1</td>\n",
              "    </tr>\n",
              "    <tr>\n",
              "      <th>1</th>\n",
              "      <td>Santa Fe</td>\n",
              "      <td>2</td>\n",
              "    </tr>\n",
              "    <tr>\n",
              "      <th>2</th>\n",
              "      <td>Córdoba</td>\n",
              "      <td>3</td>\n",
              "    </tr>\n",
              "    <tr>\n",
              "      <th>3</th>\n",
              "      <td>Salta</td>\n",
              "      <td>4</td>\n",
              "    </tr>\n",
              "    <tr>\n",
              "      <th>4</th>\n",
              "      <td>Santa Fe</td>\n",
              "      <td>5</td>\n",
              "    </tr>\n",
              "    <tr>\n",
              "      <th>...</th>\n",
              "      <td>...</td>\n",
              "      <td>...</td>\n",
              "    </tr>\n",
              "    <tr>\n",
              "      <th>10895</th>\n",
              "      <td>Catamarca</td>\n",
              "      <td>10896</td>\n",
              "    </tr>\n",
              "    <tr>\n",
              "      <th>10896</th>\n",
              "      <td>Buenos Aires</td>\n",
              "      <td>10897</td>\n",
              "    </tr>\n",
              "    <tr>\n",
              "      <th>10897</th>\n",
              "      <td>San Juan</td>\n",
              "      <td>10898</td>\n",
              "    </tr>\n",
              "    <tr>\n",
              "      <th>10898</th>\n",
              "      <td>Chaco</td>\n",
              "      <td>10899</td>\n",
              "    </tr>\n",
              "    <tr>\n",
              "      <th>10899</th>\n",
              "      <td>Tucumán</td>\n",
              "      <td>10900</td>\n",
              "    </tr>\n",
              "  </tbody>\n",
              "</table>\n",
              "<p>10900 rows × 2 columns</p>\n",
              "</div>"
            ],
            "text/plain": [
              "          provincia  nro_cliente\n",
              "0             Chaco            1\n",
              "1          Santa Fe            2\n",
              "2           Córdoba            3\n",
              "3             Salta            4\n",
              "4          Santa Fe            5\n",
              "...             ...          ...\n",
              "10895     Catamarca        10896\n",
              "10896  Buenos Aires        10897\n",
              "10897      San Juan        10898\n",
              "10898         Chaco        10899\n",
              "10899       Tucumán        10900\n",
              "\n",
              "[10900 rows x 2 columns]"
            ]
          },
          "metadata": {
            "tags": []
          },
          "execution_count": 56
        }
      ]
    },
    {
      "cell_type": "code",
      "metadata": {
        "id": "GqAZcjoydU-6",
        "outputId": "e76cefd1-26c3-43da-f57c-40c6d7b1a04d",
        "colab": {
          "base_uri": "https://localhost:8080/",
          "height": 402
        }
      },
      "source": [
        "provincia2=base_final2.merge(provincia, on='nro_cliente', how='left')\n",
        "provincia2"
      ],
      "execution_count": 64,
      "outputs": [
        {
          "output_type": "execute_result",
          "data": {
            "text/html": [
              "<div>\n",
              "<style scoped>\n",
              "    .dataframe tbody tr th:only-of-type {\n",
              "        vertical-align: middle;\n",
              "    }\n",
              "\n",
              "    .dataframe tbody tr th {\n",
              "        vertical-align: top;\n",
              "    }\n",
              "\n",
              "    .dataframe thead th {\n",
              "        text-align: right;\n",
              "    }\n",
              "</style>\n",
              "<table border=\"1\" class=\"dataframe\">\n",
              "  <thead>\n",
              "    <tr style=\"text-align: right;\">\n",
              "      <th></th>\n",
              "      <th>nro_cliente</th>\n",
              "      <th>cambio_plan_1_si_0_no</th>\n",
              "      <th>provincia</th>\n",
              "    </tr>\n",
              "  </thead>\n",
              "  <tbody>\n",
              "    <tr>\n",
              "      <th>0</th>\n",
              "      <td>1</td>\n",
              "      <td>1</td>\n",
              "      <td>Chaco</td>\n",
              "    </tr>\n",
              "    <tr>\n",
              "      <th>1</th>\n",
              "      <td>2</td>\n",
              "      <td>0</td>\n",
              "      <td>Santa Fe</td>\n",
              "    </tr>\n",
              "    <tr>\n",
              "      <th>2</th>\n",
              "      <td>3</td>\n",
              "      <td>0</td>\n",
              "      <td>Córdoba</td>\n",
              "    </tr>\n",
              "    <tr>\n",
              "      <th>3</th>\n",
              "      <td>4</td>\n",
              "      <td>1</td>\n",
              "      <td>Salta</td>\n",
              "    </tr>\n",
              "    <tr>\n",
              "      <th>4</th>\n",
              "      <td>5</td>\n",
              "      <td>1</td>\n",
              "      <td>Santa Fe</td>\n",
              "    </tr>\n",
              "    <tr>\n",
              "      <th>...</th>\n",
              "      <td>...</td>\n",
              "      <td>...</td>\n",
              "      <td>...</td>\n",
              "    </tr>\n",
              "    <tr>\n",
              "      <th>10895</th>\n",
              "      <td>10896</td>\n",
              "      <td>0</td>\n",
              "      <td>Catamarca</td>\n",
              "    </tr>\n",
              "    <tr>\n",
              "      <th>10896</th>\n",
              "      <td>10897</td>\n",
              "      <td>0</td>\n",
              "      <td>Buenos Aires</td>\n",
              "    </tr>\n",
              "    <tr>\n",
              "      <th>10897</th>\n",
              "      <td>10898</td>\n",
              "      <td>0</td>\n",
              "      <td>San Juan</td>\n",
              "    </tr>\n",
              "    <tr>\n",
              "      <th>10898</th>\n",
              "      <td>10899</td>\n",
              "      <td>1</td>\n",
              "      <td>Chaco</td>\n",
              "    </tr>\n",
              "    <tr>\n",
              "      <th>10899</th>\n",
              "      <td>10900</td>\n",
              "      <td>0</td>\n",
              "      <td>Tucumán</td>\n",
              "    </tr>\n",
              "  </tbody>\n",
              "</table>\n",
              "<p>10900 rows × 3 columns</p>\n",
              "</div>"
            ],
            "text/plain": [
              "       nro_cliente  cambio_plan_1_si_0_no     provincia\n",
              "0                1                      1         Chaco\n",
              "1                2                      0      Santa Fe\n",
              "2                3                      0       Córdoba\n",
              "3                4                      1         Salta\n",
              "4                5                      1      Santa Fe\n",
              "...            ...                    ...           ...\n",
              "10895        10896                      0     Catamarca\n",
              "10896        10897                      0  Buenos Aires\n",
              "10897        10898                      0      San Juan\n",
              "10898        10899                      1         Chaco\n",
              "10899        10900                      0       Tucumán\n",
              "\n",
              "[10900 rows x 3 columns]"
            ]
          },
          "metadata": {
            "tags": []
          },
          "execution_count": 64
        }
      ]
    },
    {
      "cell_type": "markdown",
      "metadata": {
        "id": "e-43RsLFd_wg"
      },
      "source": [
        ""
      ]
    },
    {
      "cell_type": "code",
      "metadata": {
        "id": "iWQ2r6LXdmXa",
        "outputId": "04a6cfc5-4ac0-46f2-85d7-91c717bf37ce",
        "colab": {
          "base_uri": "https://localhost:8080/",
          "height": 34
        }
      },
      "source": [
        "cambiaron_caba=provincia2[(provincia2['cambio_plan_1_si_0_no']==1) & (provincia2['provincia'].str.contains(\"Ciudad Aut\"))]\n",
        "cant_camb=cambiaron_caba['nro_cliente'].count()\n",
        "print(f'La cantidad de clientes que cambiaron de plan y encuentran en CABA son: {cant_camb} clientes')"
      ],
      "execution_count": 78,
      "outputs": [
        {
          "output_type": "stream",
          "text": [
            "La cantidad de clientes que cambiaron de plan y encuentran en CABA son: 706 clientes\n"
          ],
          "name": "stdout"
        }
      ]
    },
    {
      "cell_type": "markdown",
      "metadata": {
        "id": "Eqa1SHDJd3Mo"
      },
      "source": [
        "Cant de clientes que se encuentran en CABA que cambiaron de plan:"
      ]
    }
  ]
}